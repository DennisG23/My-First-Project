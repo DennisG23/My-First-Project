{
 "cells": [
  {
   "cell_type": "code",
   "execution_count": 1,
   "id": "54dfae93",
   "metadata": {},
   "outputs": [],
   "source": [
    "from IPython.display import clear_output\n",
    "clear_output()"
   ]
  },
  {
   "cell_type": "code",
   "execution_count": 2,
   "id": "a85617c1",
   "metadata": {},
   "outputs": [],
   "source": [
    "board = ['#','-','-','-','-','-','-','-','-','-']\n",
    "\n",
    "markerx = 'X'\n",
    "markero = 'O'"
   ]
  },
  {
   "cell_type": "code",
   "execution_count": 3,
   "id": "4edee292",
   "metadata": {},
   "outputs": [],
   "source": [
    "def gameboard(board):\n",
    "    \n",
    "    print('     |‾‾‾|‾‾‾|‾‾‾|')\n",
    "    print('     | '+board[7]+' | '+board[8]+' | '+board[9]+' |')\n",
    "    print('     |___|___|___|')\n",
    "    print('     |   |   |   |')\n",
    "    print('     | '+board[4]+' | '+board[5]+' | '+board[6]+' |')\n",
    "    print('     |___|___|___|')\n",
    "    print('     |   |   |   |')\n",
    "    print('     | '+board[1]+' | '+board[2]+' | '+board[3]+' |')\n",
    "    print('     |___|___|___|')\n",
    "    "
   ]
  },
  {
   "cell_type": "code",
   "execution_count": 34,
   "id": "1ddace9c",
   "metadata": {},
   "outputs": [],
   "source": [
    "def choosemarkerx(board): #4\n",
    "              \n",
    "            inp = int(input(\"Choose a position you want to put your marker: X   position choosed: \"))\n",
    "            \n",
    "            if inp >= 1  and inp <= 9 and board[inp] == '-':\n",
    "                board[inp] = markerx\n",
    "                return True\n",
    "            elif inp > 10:\n",
    "                print(\"Invalid input\")\n",
    "                return False\n",
    "            elif board[inp] == 'X' or board[inp] == 'O':\n",
    "                print('\\nOops that position is already taken')  \n",
    "                return False"
   ]
  },
  {
   "cell_type": "code",
   "execution_count": 35,
   "id": "08e071d7",
   "metadata": {},
   "outputs": [],
   "source": [
    "def choosemarkero(board): #4\n",
    "            \n",
    "            inp = int(input(\"Choose a position you want to put your marker: O   position choosed:  \"))\n",
    "            \n",
    "            if inp >= 1  and inp <= 9 and board[inp] == '-':\n",
    "                board[inp] = markero\n",
    "                return True\n",
    "            elif inp > 10:\n",
    "                print(\"Invalid input\")\n",
    "                return False\n",
    "            elif board[inp] == 'X' or board[inp] == 'O':\n",
    "                print('\\nOops that position is already taken')  \n",
    "                return False"
   ]
  },
  {
   "cell_type": "code",
   "execution_count": 6,
   "id": "2d220afb",
   "metadata": {},
   "outputs": [],
   "source": [
    "def gamechecker(board):\n",
    "    \n",
    "    if '-' not in board:\n",
    "        print(\"\\n   ENDGAME, ITS A TIE!!\")\n",
    "        return True\n"
   ]
  },
  {
   "cell_type": "code",
   "execution_count": 7,
   "id": "7a1ff6df",
   "metadata": {},
   "outputs": [],
   "source": [
    "def winnercheckerhorizontal(board):\n",
    "    \n",
    "    if board[1] == board[2] == board[3] and board[1] != '-':\n",
    "        print(f'   \\n    We have a winner!    \\n\\n       Player:  {board[1]}')\n",
    "        return True\n",
    "    \n",
    "    elif board[4] == board[5] == board[6] and board[4] != '-':\n",
    "        print(f'   \\n    We have a winner!    \\n\\n       Player:  {board[4]}')\n",
    "        return True\n",
    "        \n",
    "    elif board[7] == board[8] == board[9] and board[7] != '-':\n",
    "        print(f'   \\n    We have a winner!    \\n\\n       Player:  {board[7]}')\n",
    "        return True"
   ]
  },
  {
   "cell_type": "code",
   "execution_count": 8,
   "id": "5c9086ad",
   "metadata": {},
   "outputs": [],
   "source": [
    "def winnercheckervertical(board):\n",
    "    \n",
    "    if board[1] == board[4] == board[7] and board[1] != '-':\n",
    "        print(f'   \\n    We have a winner!    \\n\\n       Player:  {board[1]}')\n",
    "        return True\n",
    "    \n",
    "    elif board[2] == board[5] == board[8] and board[2] != '-':\n",
    "        print(f'   \\n    We have a winner!    \\n\\n       Player:  {board[2]}')\n",
    "        return True\n",
    "    \n",
    "    elif board[3] == board[6] == board[9] and board[3] != '-':\n",
    "        print(f'   \\n    We have a winner!    \\n\\n       Player:  {board[3]}')\n",
    "        return True"
   ]
  },
  {
   "cell_type": "code",
   "execution_count": 9,
   "id": "9393ae49",
   "metadata": {},
   "outputs": [],
   "source": [
    "def winnercheckerdiagonal(board):\n",
    "    \n",
    "    if board[1] == board[5] == board[9] and board[1] != '-':\n",
    "        print(f'   \\n    We have a winner!    \\n\\n       Player:  {board[1]}')\n",
    "        return True\n",
    "    \n",
    "    if board[3] == board[5] == board[7] and board[3] != '-':\n",
    "        print(f'   \\n    We have a winner!    \\n\\n       Player:  {board[3]}')\n",
    "        return True"
   ]
  },
  {
   "cell_type": "code",
   "execution_count": 10,
   "id": "2781c713",
   "metadata": {},
   "outputs": [],
   "source": [
    "def startplay():\n",
    "    \n",
    "    choice = 'x'\n",
    "    \n",
    "    while choice not in ['Y','N']:\n",
    "        \n",
    "        choice = input(\"\\nDo you want to start the game? press Y for yes and N for no : \").upper()\n",
    "        if choice not in ['Y','N']:\n",
    "            print(\"You've entered an invalid answer\")\n",
    "    \n",
    "    if choice == 'Y':\n",
    "        choice.upper()\n",
    "        return True\n",
    "    else:\n",
    "        choice.upper()\n",
    "        return False"
   ]
  },
  {
   "cell_type": "code",
   "execution_count": 11,
   "id": "68d81879",
   "metadata": {},
   "outputs": [],
   "source": [
    "def Player_names():\n",
    "\n",
    "    player1name = 'x'\n",
    "    player2name = 'x'\n",
    "\n",
    "    player1name = input(\"Please insert your name as Player1: \")\n",
    "\n",
    "    player2name = input(\"Please insert your name as Player2: \\n\")\n",
    "\n",
    "    print(f'WELCOME TO THE TICTACTOE PYTHON GAME! \\n \\nPlayer1: {player1name} \\n\\nPlayer2: {player2name}')"
   ]
  },
  {
   "cell_type": "code",
   "execution_count": 67,
   "id": "0e15b2ae",
   "metadata": {},
   "outputs": [
    {
     "name": "stdout",
     "output_type": "stream",
     "text": [
      "     |‾‾‾|‾‾‾|‾‾‾|\n",
      "     | - | - | - |\n",
      "     |___|___|___|\n",
      "     |   |   |   |\n",
      "     | O | X | O |\n",
      "     |___|___|___|\n",
      "     |   |   |   |\n",
      "     | X | O | X |\n",
      "     |___|___|___|\n",
      "Choose a position you want to put your marker: X   position choosed: 7\n",
      "   \n",
      "    We have a winner!    \n",
      "\n",
      "       Player:  X\n",
      "\n",
      "Here is the board result: \n",
      "     |‾‾‾|‾‾‾|‾‾‾|\n",
      "     | X | - | - |\n",
      "     |___|___|___|\n",
      "     |   |   |   |\n",
      "     | O | X | O |\n",
      "     |___|___|___|\n",
      "     |   |   |   |\n",
      "     | X | O | X |\n",
      "     |___|___|___|\n"
     ]
    }
   ],
   "source": [
    "if startplay() == True:\n",
    "    start = True\n",
    "else:\n",
    "    start = False\n",
    "    print(\"\\nGame Aborted :(\")\n",
    "    \n",
    "board = ['#','-','-','-','-','-','-','-','-','-']\n",
    "\n",
    "while start == True:\n",
    "    \n",
    "    \n",
    "    gameboard(board)\n",
    "    \n",
    "    clear_output()\n",
    "    \n",
    "    gameboard(board)\n",
    "    while choosemarkerx(board) == False:\n",
    "        clear_output()\n",
    "        gameboard(board)\n",
    "        if choosemarkerx(board) == True:\n",
    "            break\n",
    "\n",
    "    if winnercheckerhorizontal(board) == True or winnercheckervertical(board) == True or winnercheckerdiagonal(board) == True or gamechecker(board) == True:\n",
    "        print(\"\\nHere is the board result: \")\n",
    "        gameboard(board)\n",
    "        break\n",
    "    \n",
    "    clear_output()\n",
    "    \n",
    "    gameboard(board)\n",
    "    while choosemarkero(board) == False:\n",
    "        clear_output()\n",
    "        gameboard(board)\n",
    "        if choosemarkero(board) == True:\n",
    "            break\n",
    "        \n",
    "    if winnercheckerhorizontal(board) == True or winnercheckervertical(board) == True or winnercheckerdiagonal(board) == True or gamechecker(board) == True:\n",
    "        print(\"\\nHere is the board result: \")\n",
    "        gameboard(board)\n",
    "        break\n",
    "        \n",
    "        \n",
    "    "
   ]
  },
  {
   "cell_type": "code",
   "execution_count": 13,
   "id": "8545b8bc",
   "metadata": {},
   "outputs": [],
   "source": [
    "import random\n",
    "\n",
    "def turns():\n",
    "    \n",
    "    choice = ''\n",
    "    9\n",
    "    choice = input(\"Press enter to know who goes first: \")\n",
    "    \n",
    "    return random.randint(0,1000)"
   ]
  },
  {
   "cell_type": "code",
   "execution_count": 14,
   "id": "17092bff",
   "metadata": {},
   "outputs": [],
   "source": [
    "def turns1():\n",
    "    \n",
    "    if turns() %2 == 0:\n",
    "        print(\"Player X goes first\")\n",
    "        return True\n",
    "    else:\n",
    "        print(\"Player O goes first\")\n",
    "        return False"
   ]
  },
  {
   "cell_type": "code",
   "execution_count": 15,
   "id": "0766082f",
   "metadata": {},
   "outputs": [
    {
     "name": "stdout",
     "output_type": "stream",
     "text": [
      "Press enter to know who goes first: \n",
      "Player O goes first\n"
     ]
    },
    {
     "data": {
      "text/plain": [
       "False"
      ]
     },
     "execution_count": 15,
     "metadata": {},
     "output_type": "execute_result"
    }
   ],
   "source": [
    "turns1()\n"
   ]
  },
  {
   "cell_type": "code",
   "execution_count": null,
   "id": "7a4b4421",
   "metadata": {},
   "outputs": [],
   "source": []
  }
 ],
 "metadata": {
  "kernelspec": {
   "display_name": "Python 3 (ipykernel)",
   "language": "python",
   "name": "python3"
  },
  "language_info": {
   "codemirror_mode": {
    "name": "ipython",
    "version": 3
   },
   "file_extension": ".py",
   "mimetype": "text/x-python",
   "name": "python",
   "nbconvert_exporter": "python",
   "pygments_lexer": "ipython3",
   "version": "3.9.13"
  }
 },
 "nbformat": 4,
 "nbformat_minor": 5
}
